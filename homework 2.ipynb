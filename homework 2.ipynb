{
 "cells": [
  {
   "cell_type": "markdown",
   "metadata": {},
   "source": [
    "<ul>\n",
    "    <li><a href='#5-1.24'>Question 5-1 24</a></li>\n",
    "    <li><a href='#5-1.30'>Question 5-1 30</a></li>\n",
    "    <li><a href='#5-2.10'>Question 5-2 10</a></li>\n",
    "    <li><a href='#5-2.32'>Question 5-2 32</a></li>\n",
    "    <li><a href='#5-2.44'>Question 5-2 44</a></li>\n",
    "    <li><a href='#5-3.12'>Question 5-3 12</a></li>\n",
    "    <li><a href='#5-3.26'>Question 5-3 26</a></li>\n",
    "    <li><a href='#5-3.34'>Question 5-3 34</a></li>\n",
    "    <li><a href='#5-4.32'>Question 5-4 32</a></li>\n",
    "    <li><a href='#5-4.38'>Question 5-4 38</a></li>\n",
    "</ul>\n"
   ]
  },
  {
   "cell_type": "code",
   "execution_count": 1,
   "metadata": {
    "collapsed": true
   },
   "outputs": [],
   "source": [
    "import math\n",
    "import matplotlib.pyplot as plt\n",
    "import numpy as np\n",
    "from scipy.integrate import quad\n"
   ]
  },
  {
   "cell_type": "markdown",
   "metadata": {
    "collapsed": true
   },
   "source": [
    "<img src=\"https://raw.githubusercontent.com/kafonek/calc2/master/5.1.24.PNG\"/>"
   ]
  },
  {
   "cell_type": "code",
   "execution_count": 2,
   "metadata": {
    "collapsed": false
   },
   "outputs": [
    {
     "data": {
      "text/plain": [
       "4.1887902047863905"
      ]
     },
     "execution_count": 2,
     "metadata": {},
     "output_type": "execute_result"
    }
   ],
   "source": [
    "# The volume of a sphere is 4/3*pi*r**3\n",
    "\n",
    "def volume(r):\n",
    "    return (4/3) * math.pi * r**3\n",
    "\n",
    "volume(1)"
   ]
  },
  {
   "cell_type": "markdown",
   "metadata": {},
   "source": [
    "<img src=\"https://raw.githubusercontent.com/kafonek/calc2/master/5.1.30.PNG\"/>"
   ]
  },
  {
   "cell_type": "code",
   "execution_count": 3,
   "metadata": {
    "collapsed": false
   },
   "outputs": [
    {
     "data": {
      "text/plain": [
       "2.96"
      ]
     },
     "execution_count": 3,
     "metadata": {},
     "output_type": "execute_result"
    }
   ],
   "source": [
    "# I don't really float or sink in water, just sort of stay neutral.  \n",
    "\n",
    "# I am 6'0, 185\n",
    "w = 185\n",
    "w / 62.5"
   ]
  },
  {
   "cell_type": "markdown",
   "metadata": {},
   "source": [
    "<img src=\"https://raw.githubusercontent.com/kafonek/calc2/master/5.2.10.PNG\"/>"
   ]
  },
  {
   "cell_type": "code",
   "execution_count": 4,
   "metadata": {
    "collapsed": true
   },
   "outputs": [],
   "source": [
    "def f(x):\n",
    "    return 4*x**(3/2)"
   ]
  },
  {
   "cell_type": "code",
   "execution_count": 5,
   "metadata": {
    "collapsed": true
   },
   "outputs": [],
   "source": [
    "def f2(x):\n",
    "    return math.sqrt(1 + 36*x)"
   ]
  },
  {
   "cell_type": "code",
   "execution_count": 6,
   "metadata": {
    "collapsed": false
   },
   "outputs": [
    {
     "data": {
      "text/plain": [
       "(104.33256683348006, 7.781569963705776e-08)"
      ]
     },
     "execution_count": 6,
     "metadata": {},
     "output_type": "execute_result"
    }
   ],
   "source": [
    "quad(f2, 1, 9)"
   ]
  },
  {
   "cell_type": "markdown",
   "metadata": {},
   "source": [
    "<img src=\"https://raw.githubusercontent.com/kafonek/calc2/master/5.2.32.PNG\"/>\n",
    "<img src=\"https://raw.githubusercontent.com/kafonek/calc2/master/5.2.fig10.PNG\"/>"
   ]
  },
  {
   "cell_type": "code",
   "execution_count": 7,
   "metadata": {
    "collapsed": true
   },
   "outputs": [],
   "source": [
    "def area(dist, length):\n",
    "    return 2*math.pi*dist*length"
   ]
  },
  {
   "cell_type": "code",
   "execution_count": 8,
   "metadata": {
    "collapsed": false
   },
   "outputs": [
    {
     "data": {
      "text/plain": [
       "75.39822368615503"
      ]
     },
     "execution_count": 8,
     "metadata": {},
     "output_type": "execute_result"
    }
   ],
   "source": [
    "area(3, 4)"
   ]
  },
  {
   "cell_type": "code",
   "execution_count": 9,
   "metadata": {
    "collapsed": false
   },
   "outputs": [
    {
     "data": {
      "text/plain": [
       "150.79644737231007"
      ]
     },
     "execution_count": 9,
     "metadata": {},
     "output_type": "execute_result"
    }
   ],
   "source": [
    "area(6, 4)"
   ]
  },
  {
   "cell_type": "markdown",
   "metadata": {},
   "source": [
    "<img src=\"https://raw.githubusercontent.com/kafonek/calc2/master/5.2.44.PNG\"/>"
   ]
  },
  {
   "cell_type": "code",
   "execution_count": null,
   "metadata": {
    "collapsed": false
   },
   "outputs": [],
   "source": []
  },
  {
   "cell_type": "code",
   "execution_count": 10,
   "metadata": {
    "collapsed": false
   },
   "outputs": [],
   "source": [
    "def Y(x):\n",
    "    return math.sqrt(4 - x**2)\n",
    "\n",
    "def integrand(x):\n",
    "    return 2 * math.pi * Y(x) * math.sqrt(1 + (-x * math.sqrt(4 - x**2)) ** 2)\n",
    "\n"
   ]
  },
  {
   "cell_type": "code",
   "execution_count": 11,
   "metadata": {
    "collapsed": false
   },
   "outputs": [
    {
     "data": {
      "application/javascript": [
       "/* Put everything inside the global mpl namespace */\n",
       "window.mpl = {};\n",
       "\n",
       "mpl.get_websocket_type = function() {\n",
       "    if (typeof(WebSocket) !== 'undefined') {\n",
       "        return WebSocket;\n",
       "    } else if (typeof(MozWebSocket) !== 'undefined') {\n",
       "        return MozWebSocket;\n",
       "    } else {\n",
       "        alert('Your browser does not have WebSocket support.' +\n",
       "              'Please try Chrome, Safari or Firefox ≥ 6. ' +\n",
       "              'Firefox 4 and 5 are also supported but you ' +\n",
       "              'have to enable WebSockets in about:config.');\n",
       "    };\n",
       "}\n",
       "\n",
       "mpl.figure = function(figure_id, websocket, ondownload, parent_element) {\n",
       "    this.id = figure_id;\n",
       "\n",
       "    this.ws = websocket;\n",
       "\n",
       "    this.supports_binary = (this.ws.binaryType != undefined);\n",
       "\n",
       "    if (!this.supports_binary) {\n",
       "        var warnings = document.getElementById(\"mpl-warnings\");\n",
       "        if (warnings) {\n",
       "            warnings.style.display = 'block';\n",
       "            warnings.textContent = (\n",
       "                \"This browser does not support binary websocket messages. \" +\n",
       "                    \"Performance may be slow.\");\n",
       "        }\n",
       "    }\n",
       "\n",
       "    this.imageObj = new Image();\n",
       "\n",
       "    this.context = undefined;\n",
       "    this.message = undefined;\n",
       "    this.canvas = undefined;\n",
       "    this.rubberband_canvas = undefined;\n",
       "    this.rubberband_context = undefined;\n",
       "    this.format_dropdown = undefined;\n",
       "\n",
       "    this.image_mode = 'full';\n",
       "\n",
       "    this.root = $('<div/>');\n",
       "    this._root_extra_style(this.root)\n",
       "    this.root.attr('style', 'display: inline-block');\n",
       "\n",
       "    $(parent_element).append(this.root);\n",
       "\n",
       "    this._init_header(this);\n",
       "    this._init_canvas(this);\n",
       "    this._init_toolbar(this);\n",
       "\n",
       "    var fig = this;\n",
       "\n",
       "    this.waiting = false;\n",
       "\n",
       "    this.ws.onopen =  function () {\n",
       "            fig.send_message(\"supports_binary\", {value: fig.supports_binary});\n",
       "            fig.send_message(\"send_image_mode\", {});\n",
       "            fig.send_message(\"refresh\", {});\n",
       "        }\n",
       "\n",
       "    this.imageObj.onload = function() {\n",
       "            if (fig.image_mode == 'full') {\n",
       "                // Full images could contain transparency (where diff images\n",
       "                // almost always do), so we need to clear the canvas so that\n",
       "                // there is no ghosting.\n",
       "                fig.context.clearRect(0, 0, fig.canvas.width, fig.canvas.height);\n",
       "            }\n",
       "            fig.context.drawImage(fig.imageObj, 0, 0);\n",
       "            fig.waiting = false;\n",
       "        };\n",
       "\n",
       "    this.imageObj.onunload = function() {\n",
       "        this.ws.close();\n",
       "    }\n",
       "\n",
       "    this.ws.onmessage = this._make_on_message_function(this);\n",
       "\n",
       "    this.ondownload = ondownload;\n",
       "}\n",
       "\n",
       "mpl.figure.prototype._init_header = function() {\n",
       "    var titlebar = $(\n",
       "        '<div class=\"ui-dialog-titlebar ui-widget-header ui-corner-all ' +\n",
       "        'ui-helper-clearfix\"/>');\n",
       "    var titletext = $(\n",
       "        '<div class=\"ui-dialog-title\" style=\"width: 100%; ' +\n",
       "        'text-align: center; padding: 3px;\"/>');\n",
       "    titlebar.append(titletext)\n",
       "    this.root.append(titlebar);\n",
       "    this.header = titletext[0];\n",
       "}\n",
       "\n",
       "\n",
       "\n",
       "mpl.figure.prototype._canvas_extra_style = function(canvas_div) {\n",
       "\n",
       "}\n",
       "\n",
       "\n",
       "mpl.figure.prototype._root_extra_style = function(canvas_div) {\n",
       "\n",
       "}\n",
       "\n",
       "mpl.figure.prototype._init_canvas = function() {\n",
       "    var fig = this;\n",
       "\n",
       "    var canvas_div = $('<div/>');\n",
       "\n",
       "    canvas_div.attr('style', 'position: relative; clear: both; outline: 0');\n",
       "\n",
       "    function canvas_keyboard_event(event) {\n",
       "        return fig.key_event(event, event['data']);\n",
       "    }\n",
       "\n",
       "    canvas_div.keydown('key_press', canvas_keyboard_event);\n",
       "    canvas_div.keyup('key_release', canvas_keyboard_event);\n",
       "    this.canvas_div = canvas_div\n",
       "    this._canvas_extra_style(canvas_div)\n",
       "    this.root.append(canvas_div);\n",
       "\n",
       "    var canvas = $('<canvas/>');\n",
       "    canvas.addClass('mpl-canvas');\n",
       "    canvas.attr('style', \"left: 0; top: 0; z-index: 0; outline: 0\")\n",
       "\n",
       "    this.canvas = canvas[0];\n",
       "    this.context = canvas[0].getContext(\"2d\");\n",
       "\n",
       "    var rubberband = $('<canvas/>');\n",
       "    rubberband.attr('style', \"position: absolute; left: 0; top: 0; z-index: 1;\")\n",
       "\n",
       "    var pass_mouse_events = true;\n",
       "\n",
       "    canvas_div.resizable({\n",
       "        start: function(event, ui) {\n",
       "            pass_mouse_events = false;\n",
       "        },\n",
       "        resize: function(event, ui) {\n",
       "            fig.request_resize(ui.size.width, ui.size.height);\n",
       "        },\n",
       "        stop: function(event, ui) {\n",
       "            pass_mouse_events = true;\n",
       "            fig.request_resize(ui.size.width, ui.size.height);\n",
       "        },\n",
       "    });\n",
       "\n",
       "    function mouse_event_fn(event) {\n",
       "        if (pass_mouse_events)\n",
       "            return fig.mouse_event(event, event['data']);\n",
       "    }\n",
       "\n",
       "    rubberband.mousedown('button_press', mouse_event_fn);\n",
       "    rubberband.mouseup('button_release', mouse_event_fn);\n",
       "    // Throttle sequential mouse events to 1 every 20ms.\n",
       "    rubberband.mousemove('motion_notify', mouse_event_fn);\n",
       "\n",
       "    rubberband.mouseenter('figure_enter', mouse_event_fn);\n",
       "    rubberband.mouseleave('figure_leave', mouse_event_fn);\n",
       "\n",
       "    canvas_div.on(\"wheel\", function (event) {\n",
       "        event = event.originalEvent;\n",
       "        event['data'] = 'scroll'\n",
       "        if (event.deltaY < 0) {\n",
       "            event.step = 1;\n",
       "        } else {\n",
       "            event.step = -1;\n",
       "        }\n",
       "        mouse_event_fn(event);\n",
       "    });\n",
       "\n",
       "    canvas_div.append(canvas);\n",
       "    canvas_div.append(rubberband);\n",
       "\n",
       "    this.rubberband = rubberband;\n",
       "    this.rubberband_canvas = rubberband[0];\n",
       "    this.rubberband_context = rubberband[0].getContext(\"2d\");\n",
       "    this.rubberband_context.strokeStyle = \"#000000\";\n",
       "\n",
       "    this._resize_canvas = function(width, height) {\n",
       "        // Keep the size of the canvas, canvas container, and rubber band\n",
       "        // canvas in synch.\n",
       "        canvas_div.css('width', width)\n",
       "        canvas_div.css('height', height)\n",
       "\n",
       "        canvas.attr('width', width);\n",
       "        canvas.attr('height', height);\n",
       "\n",
       "        rubberband.attr('width', width);\n",
       "        rubberband.attr('height', height);\n",
       "    }\n",
       "\n",
       "    // Set the figure to an initial 600x600px, this will subsequently be updated\n",
       "    // upon first draw.\n",
       "    this._resize_canvas(600, 600);\n",
       "\n",
       "    // Disable right mouse context menu.\n",
       "    $(this.rubberband_canvas).bind(\"contextmenu\",function(e){\n",
       "        return false;\n",
       "    });\n",
       "\n",
       "    function set_focus () {\n",
       "        canvas.focus();\n",
       "        canvas_div.focus();\n",
       "    }\n",
       "\n",
       "    window.setTimeout(set_focus, 100);\n",
       "}\n",
       "\n",
       "mpl.figure.prototype._init_toolbar = function() {\n",
       "    var fig = this;\n",
       "\n",
       "    var nav_element = $('<div/>')\n",
       "    nav_element.attr('style', 'width: 100%');\n",
       "    this.root.append(nav_element);\n",
       "\n",
       "    // Define a callback function for later on.\n",
       "    function toolbar_event(event) {\n",
       "        return fig.toolbar_button_onclick(event['data']);\n",
       "    }\n",
       "    function toolbar_mouse_event(event) {\n",
       "        return fig.toolbar_button_onmouseover(event['data']);\n",
       "    }\n",
       "\n",
       "    for(var toolbar_ind in mpl.toolbar_items) {\n",
       "        var name = mpl.toolbar_items[toolbar_ind][0];\n",
       "        var tooltip = mpl.toolbar_items[toolbar_ind][1];\n",
       "        var image = mpl.toolbar_items[toolbar_ind][2];\n",
       "        var method_name = mpl.toolbar_items[toolbar_ind][3];\n",
       "\n",
       "        if (!name) {\n",
       "            // put a spacer in here.\n",
       "            continue;\n",
       "        }\n",
       "        var button = $('<button/>');\n",
       "        button.addClass('ui-button ui-widget ui-state-default ui-corner-all ' +\n",
       "                        'ui-button-icon-only');\n",
       "        button.attr('role', 'button');\n",
       "        button.attr('aria-disabled', 'false');\n",
       "        button.click(method_name, toolbar_event);\n",
       "        button.mouseover(tooltip, toolbar_mouse_event);\n",
       "\n",
       "        var icon_img = $('<span/>');\n",
       "        icon_img.addClass('ui-button-icon-primary ui-icon');\n",
       "        icon_img.addClass(image);\n",
       "        icon_img.addClass('ui-corner-all');\n",
       "\n",
       "        var tooltip_span = $('<span/>');\n",
       "        tooltip_span.addClass('ui-button-text');\n",
       "        tooltip_span.html(tooltip);\n",
       "\n",
       "        button.append(icon_img);\n",
       "        button.append(tooltip_span);\n",
       "\n",
       "        nav_element.append(button);\n",
       "    }\n",
       "\n",
       "    var fmt_picker_span = $('<span/>');\n",
       "\n",
       "    var fmt_picker = $('<select/>');\n",
       "    fmt_picker.addClass('mpl-toolbar-option ui-widget ui-widget-content');\n",
       "    fmt_picker_span.append(fmt_picker);\n",
       "    nav_element.append(fmt_picker_span);\n",
       "    this.format_dropdown = fmt_picker[0];\n",
       "\n",
       "    for (var ind in mpl.extensions) {\n",
       "        var fmt = mpl.extensions[ind];\n",
       "        var option = $(\n",
       "            '<option/>', {selected: fmt === mpl.default_extension}).html(fmt);\n",
       "        fmt_picker.append(option)\n",
       "    }\n",
       "\n",
       "    // Add hover states to the ui-buttons\n",
       "    $( \".ui-button\" ).hover(\n",
       "        function() { $(this).addClass(\"ui-state-hover\");},\n",
       "        function() { $(this).removeClass(\"ui-state-hover\");}\n",
       "    );\n",
       "\n",
       "    var status_bar = $('<span class=\"mpl-message\"/>');\n",
       "    nav_element.append(status_bar);\n",
       "    this.message = status_bar[0];\n",
       "}\n",
       "\n",
       "mpl.figure.prototype.request_resize = function(x_pixels, y_pixels) {\n",
       "    // Request matplotlib to resize the figure. Matplotlib will then trigger a resize in the client,\n",
       "    // which will in turn request a refresh of the image.\n",
       "    this.send_message('resize', {'width': x_pixels, 'height': y_pixels});\n",
       "}\n",
       "\n",
       "mpl.figure.prototype.send_message = function(type, properties) {\n",
       "    properties['type'] = type;\n",
       "    properties['figure_id'] = this.id;\n",
       "    this.ws.send(JSON.stringify(properties));\n",
       "}\n",
       "\n",
       "mpl.figure.prototype.send_draw_message = function() {\n",
       "    if (!this.waiting) {\n",
       "        this.waiting = true;\n",
       "        this.ws.send(JSON.stringify({type: \"draw\", figure_id: this.id}));\n",
       "    }\n",
       "}\n",
       "\n",
       "\n",
       "mpl.figure.prototype.handle_save = function(fig, msg) {\n",
       "    var format_dropdown = fig.format_dropdown;\n",
       "    var format = format_dropdown.options[format_dropdown.selectedIndex].value;\n",
       "    fig.ondownload(fig, format);\n",
       "}\n",
       "\n",
       "\n",
       "mpl.figure.prototype.handle_resize = function(fig, msg) {\n",
       "    var size = msg['size'];\n",
       "    if (size[0] != fig.canvas.width || size[1] != fig.canvas.height) {\n",
       "        fig._resize_canvas(size[0], size[1]);\n",
       "        fig.send_message(\"refresh\", {});\n",
       "    };\n",
       "}\n",
       "\n",
       "mpl.figure.prototype.handle_rubberband = function(fig, msg) {\n",
       "    var x0 = msg['x0'];\n",
       "    var y0 = fig.canvas.height - msg['y0'];\n",
       "    var x1 = msg['x1'];\n",
       "    var y1 = fig.canvas.height - msg['y1'];\n",
       "    x0 = Math.floor(x0) + 0.5;\n",
       "    y0 = Math.floor(y0) + 0.5;\n",
       "    x1 = Math.floor(x1) + 0.5;\n",
       "    y1 = Math.floor(y1) + 0.5;\n",
       "    var min_x = Math.min(x0, x1);\n",
       "    var min_y = Math.min(y0, y1);\n",
       "    var width = Math.abs(x1 - x0);\n",
       "    var height = Math.abs(y1 - y0);\n",
       "\n",
       "    fig.rubberband_context.clearRect(\n",
       "        0, 0, fig.canvas.width, fig.canvas.height);\n",
       "\n",
       "    fig.rubberband_context.strokeRect(min_x, min_y, width, height);\n",
       "}\n",
       "\n",
       "mpl.figure.prototype.handle_figure_label = function(fig, msg) {\n",
       "    // Updates the figure title.\n",
       "    fig.header.textContent = msg['label'];\n",
       "}\n",
       "\n",
       "mpl.figure.prototype.handle_cursor = function(fig, msg) {\n",
       "    var cursor = msg['cursor'];\n",
       "    switch(cursor)\n",
       "    {\n",
       "    case 0:\n",
       "        cursor = 'pointer';\n",
       "        break;\n",
       "    case 1:\n",
       "        cursor = 'default';\n",
       "        break;\n",
       "    case 2:\n",
       "        cursor = 'crosshair';\n",
       "        break;\n",
       "    case 3:\n",
       "        cursor = 'move';\n",
       "        break;\n",
       "    }\n",
       "    fig.rubberband_canvas.style.cursor = cursor;\n",
       "}\n",
       "\n",
       "mpl.figure.prototype.handle_message = function(fig, msg) {\n",
       "    fig.message.textContent = msg['message'];\n",
       "}\n",
       "\n",
       "mpl.figure.prototype.handle_draw = function(fig, msg) {\n",
       "    // Request the server to send over a new figure.\n",
       "    fig.send_draw_message();\n",
       "}\n",
       "\n",
       "mpl.figure.prototype.handle_image_mode = function(fig, msg) {\n",
       "    fig.image_mode = msg['mode'];\n",
       "}\n",
       "\n",
       "mpl.figure.prototype.updated_canvas_event = function() {\n",
       "    // Called whenever the canvas gets updated.\n",
       "    this.send_message(\"ack\", {});\n",
       "}\n",
       "\n",
       "// A function to construct a web socket function for onmessage handling.\n",
       "// Called in the figure constructor.\n",
       "mpl.figure.prototype._make_on_message_function = function(fig) {\n",
       "    return function socket_on_message(evt) {\n",
       "        if (evt.data instanceof Blob) {\n",
       "            /* FIXME: We get \"Resource interpreted as Image but\n",
       "             * transferred with MIME type text/plain:\" errors on\n",
       "             * Chrome.  But how to set the MIME type?  It doesn't seem\n",
       "             * to be part of the websocket stream */\n",
       "            evt.data.type = \"image/png\";\n",
       "\n",
       "            /* Free the memory for the previous frames */\n",
       "            if (fig.imageObj.src) {\n",
       "                (window.URL || window.webkitURL).revokeObjectURL(\n",
       "                    fig.imageObj.src);\n",
       "            }\n",
       "\n",
       "            fig.imageObj.src = (window.URL || window.webkitURL).createObjectURL(\n",
       "                evt.data);\n",
       "            fig.updated_canvas_event();\n",
       "            return;\n",
       "        }\n",
       "        else if (typeof evt.data === 'string' && evt.data.slice(0, 21) == \"data:image/png;base64\") {\n",
       "            fig.imageObj.src = evt.data;\n",
       "            fig.updated_canvas_event();\n",
       "            return;\n",
       "        }\n",
       "\n",
       "        var msg = JSON.parse(evt.data);\n",
       "        var msg_type = msg['type'];\n",
       "\n",
       "        // Call the  \"handle_{type}\" callback, which takes\n",
       "        // the figure and JSON message as its only arguments.\n",
       "        try {\n",
       "            var callback = fig[\"handle_\" + msg_type];\n",
       "        } catch (e) {\n",
       "            console.log(\"No handler for the '\" + msg_type + \"' message type: \", msg);\n",
       "            return;\n",
       "        }\n",
       "\n",
       "        if (callback) {\n",
       "            try {\n",
       "                // console.log(\"Handling '\" + msg_type + \"' message: \", msg);\n",
       "                callback(fig, msg);\n",
       "            } catch (e) {\n",
       "                console.log(\"Exception inside the 'handler_\" + msg_type + \"' callback:\", e, e.stack, msg);\n",
       "            }\n",
       "        }\n",
       "    };\n",
       "}\n",
       "\n",
       "// from http://stackoverflow.com/questions/1114465/getting-mouse-location-in-canvas\n",
       "mpl.findpos = function(e) {\n",
       "    //this section is from http://www.quirksmode.org/js/events_properties.html\n",
       "    var targ;\n",
       "    if (!e)\n",
       "        e = window.event;\n",
       "    if (e.target)\n",
       "        targ = e.target;\n",
       "    else if (e.srcElement)\n",
       "        targ = e.srcElement;\n",
       "    if (targ.nodeType == 3) // defeat Safari bug\n",
       "        targ = targ.parentNode;\n",
       "\n",
       "    // jQuery normalizes the pageX and pageY\n",
       "    // pageX,Y are the mouse positions relative to the document\n",
       "    // offset() returns the position of the element relative to the document\n",
       "    var x = e.pageX - $(targ).offset().left;\n",
       "    var y = e.pageY - $(targ).offset().top;\n",
       "\n",
       "    return {\"x\": x, \"y\": y};\n",
       "};\n",
       "\n",
       "mpl.figure.prototype.mouse_event = function(event, name) {\n",
       "    var canvas_pos = mpl.findpos(event)\n",
       "\n",
       "    if (name === 'button_press')\n",
       "    {\n",
       "        this.canvas.focus();\n",
       "        this.canvas_div.focus();\n",
       "    }\n",
       "\n",
       "    var x = canvas_pos.x;\n",
       "    var y = canvas_pos.y;\n",
       "\n",
       "    this.send_message(name, {x: x, y: y, button: event.button,\n",
       "                             step: event.step});\n",
       "\n",
       "    /* This prevents the web browser from automatically changing to\n",
       "     * the text insertion cursor when the button is pressed.  We want\n",
       "     * to control all of the cursor setting manually through the\n",
       "     * 'cursor' event from matplotlib */\n",
       "    event.preventDefault();\n",
       "    return false;\n",
       "}\n",
       "\n",
       "mpl.figure.prototype._key_event_extra = function(event, name) {\n",
       "    // Handle any extra behaviour associated with a key event\n",
       "}\n",
       "\n",
       "mpl.figure.prototype.key_event = function(event, name) {\n",
       "\n",
       "    // Prevent repeat events\n",
       "    if (name == 'key_press')\n",
       "    {\n",
       "        if (event.which === this._key)\n",
       "            return;\n",
       "        else\n",
       "            this._key = event.which;\n",
       "    }\n",
       "    if (name == 'key_release')\n",
       "        this._key = null;\n",
       "\n",
       "    var value = '';\n",
       "    if (event.ctrlKey && event.which != 17)\n",
       "        value += \"ctrl+\";\n",
       "    if (event.altKey && event.which != 18)\n",
       "        value += \"alt+\";\n",
       "    if (event.shiftKey && event.which != 16)\n",
       "        value += \"shift+\";\n",
       "\n",
       "    value += 'k';\n",
       "    value += event.which.toString();\n",
       "\n",
       "    this._key_event_extra(event, name);\n",
       "\n",
       "    this.send_message(name, {key: value});\n",
       "    return false;\n",
       "}\n",
       "\n",
       "mpl.figure.prototype.toolbar_button_onclick = function(name) {\n",
       "    if (name == 'download') {\n",
       "        this.handle_save(this, null);\n",
       "    } else {\n",
       "        this.send_message(\"toolbar_button\", {name: name});\n",
       "    }\n",
       "};\n",
       "\n",
       "mpl.figure.prototype.toolbar_button_onmouseover = function(tooltip) {\n",
       "    this.message.textContent = tooltip;\n",
       "};\n",
       "mpl.toolbar_items = [[\"Home\", \"Reset original view\", \"fa fa-home icon-home\", \"home\"], [\"Back\", \"Back to  previous view\", \"fa fa-arrow-left icon-arrow-left\", \"back\"], [\"Forward\", \"Forward to next view\", \"fa fa-arrow-right icon-arrow-right\", \"forward\"], [\"\", \"\", \"\", \"\"], [\"Pan\", \"Pan axes with left mouse, zoom with right\", \"fa fa-arrows icon-move\", \"pan\"], [\"Zoom\", \"Zoom to rectangle\", \"fa fa-square-o icon-check-empty\", \"zoom\"], [\"\", \"\", \"\", \"\"], [\"Download\", \"Download plot\", \"fa fa-floppy-o icon-save\", \"download\"]];\n",
       "\n",
       "mpl.extensions = [\"eps\", \"jpeg\", \"pdf\", \"png\", \"ps\", \"raw\", \"svg\", \"tif\"];\n",
       "\n",
       "mpl.default_extension = \"png\";var comm_websocket_adapter = function(comm) {\n",
       "    // Create a \"websocket\"-like object which calls the given IPython comm\n",
       "    // object with the appropriate methods. Currently this is a non binary\n",
       "    // socket, so there is still some room for performance tuning.\n",
       "    var ws = {};\n",
       "\n",
       "    ws.close = function() {\n",
       "        comm.close()\n",
       "    };\n",
       "    ws.send = function(m) {\n",
       "        //console.log('sending', m);\n",
       "        comm.send(m);\n",
       "    };\n",
       "    // Register the callback with on_msg.\n",
       "    comm.on_msg(function(msg) {\n",
       "        //console.log('receiving', msg['content']['data'], msg);\n",
       "        // Pass the mpl event to the overriden (by mpl) onmessage function.\n",
       "        ws.onmessage(msg['content']['data'])\n",
       "    });\n",
       "    return ws;\n",
       "}\n",
       "\n",
       "mpl.mpl_figure_comm = function(comm, msg) {\n",
       "    // This is the function which gets called when the mpl process\n",
       "    // starts-up an IPython Comm through the \"matplotlib\" channel.\n",
       "\n",
       "    var id = msg.content.data.id;\n",
       "    // Get hold of the div created by the display call when the Comm\n",
       "    // socket was opened in Python.\n",
       "    var element = $(\"#\" + id);\n",
       "    var ws_proxy = comm_websocket_adapter(comm)\n",
       "\n",
       "    function ondownload(figure, format) {\n",
       "        window.open(figure.imageObj.src);\n",
       "    }\n",
       "\n",
       "    var fig = new mpl.figure(id, ws_proxy,\n",
       "                           ondownload,\n",
       "                           element.get(0));\n",
       "\n",
       "    // Call onopen now - mpl needs it, as it is assuming we've passed it a real\n",
       "    // web socket which is closed, not our websocket->open comm proxy.\n",
       "    ws_proxy.onopen();\n",
       "\n",
       "    fig.parent_element = element.get(0);\n",
       "    fig.cell_info = mpl.find_output_cell(\"<div id='\" + id + \"'></div>\");\n",
       "    if (!fig.cell_info) {\n",
       "        console.error(\"Failed to find cell for figure\", id, fig);\n",
       "        return;\n",
       "    }\n",
       "\n",
       "    var output_index = fig.cell_info[2]\n",
       "    var cell = fig.cell_info[0];\n",
       "\n",
       "};\n",
       "\n",
       "mpl.figure.prototype.handle_close = function(fig, msg) {\n",
       "    // Update the output cell to use the data from the current canvas.\n",
       "    fig.push_to_output();\n",
       "    var dataURL = fig.canvas.toDataURL();\n",
       "    // Re-enable the keyboard manager in IPython - without this line, in FF,\n",
       "    // the notebook keyboard shortcuts fail.\n",
       "    IPython.keyboard_manager.enable()\n",
       "    $(fig.parent_element).html('<img src=\"' + dataURL + '\">');\n",
       "    fig.send_message('closing', {});\n",
       "    fig.ws.close()\n",
       "}\n",
       "\n",
       "mpl.figure.prototype.push_to_output = function(remove_interactive) {\n",
       "    // Turn the data on the canvas into data in the output cell.\n",
       "    var dataURL = this.canvas.toDataURL();\n",
       "    this.cell_info[1]['text/html'] = '<img src=\"' + dataURL + '\">';\n",
       "}\n",
       "\n",
       "mpl.figure.prototype.updated_canvas_event = function() {\n",
       "    // Tell IPython that the notebook contents must change.\n",
       "    IPython.notebook.set_dirty(true);\n",
       "    this.send_message(\"ack\", {});\n",
       "    var fig = this;\n",
       "    // Wait a second, then push the new image to the DOM so\n",
       "    // that it is saved nicely (might be nice to debounce this).\n",
       "    setTimeout(function () { fig.push_to_output() }, 1000);\n",
       "}\n",
       "\n",
       "mpl.figure.prototype._init_toolbar = function() {\n",
       "    var fig = this;\n",
       "\n",
       "    var nav_element = $('<div/>')\n",
       "    nav_element.attr('style', 'width: 100%');\n",
       "    this.root.append(nav_element);\n",
       "\n",
       "    // Define a callback function for later on.\n",
       "    function toolbar_event(event) {\n",
       "        return fig.toolbar_button_onclick(event['data']);\n",
       "    }\n",
       "    function toolbar_mouse_event(event) {\n",
       "        return fig.toolbar_button_onmouseover(event['data']);\n",
       "    }\n",
       "\n",
       "    for(var toolbar_ind in mpl.toolbar_items){\n",
       "        var name = mpl.toolbar_items[toolbar_ind][0];\n",
       "        var tooltip = mpl.toolbar_items[toolbar_ind][1];\n",
       "        var image = mpl.toolbar_items[toolbar_ind][2];\n",
       "        var method_name = mpl.toolbar_items[toolbar_ind][3];\n",
       "\n",
       "        if (!name) { continue; };\n",
       "\n",
       "        var button = $('<button class=\"btn btn-default\" href=\"#\" title=\"' + name + '\"><i class=\"fa ' + image + ' fa-lg\"></i></button>');\n",
       "        button.click(method_name, toolbar_event);\n",
       "        button.mouseover(tooltip, toolbar_mouse_event);\n",
       "        nav_element.append(button);\n",
       "    }\n",
       "\n",
       "    // Add the status bar.\n",
       "    var status_bar = $('<span class=\"mpl-message\" style=\"text-align:right; float: right;\"/>');\n",
       "    nav_element.append(status_bar);\n",
       "    this.message = status_bar[0];\n",
       "\n",
       "    // Add the close button to the window.\n",
       "    var buttongrp = $('<div class=\"btn-group inline pull-right\"></div>');\n",
       "    var button = $('<button class=\"btn btn-mini btn-danger\" href=\"#\" title=\"Close figure\"><i class=\"fa fa-times icon-remove icon-large\"></i></button>');\n",
       "    button.click(function (evt) { fig.handle_close(fig, {}); } );\n",
       "    button.mouseover('Close figure', toolbar_mouse_event);\n",
       "    buttongrp.append(button);\n",
       "    var titlebar = this.root.find($('.ui-dialog-titlebar'));\n",
       "    titlebar.prepend(buttongrp);\n",
       "}\n",
       "\n",
       "\n",
       "mpl.figure.prototype._canvas_extra_style = function(el){\n",
       "    // this is important to make the div 'focusable\n",
       "    el.attr('tabindex', 0)\n",
       "    // reach out to IPython and tell the keyboard manager to turn it's self\n",
       "    // off when our div gets focus\n",
       "\n",
       "    // location in version 3\n",
       "    if (IPython.notebook.keyboard_manager) {\n",
       "        IPython.notebook.keyboard_manager.register_events(el);\n",
       "    }\n",
       "    else {\n",
       "        // location in version 2\n",
       "        IPython.keyboard_manager.register_events(el);\n",
       "    }\n",
       "\n",
       "}\n",
       "\n",
       "mpl.figure.prototype._key_event_extra = function(event, name) {\n",
       "    var manager = IPython.notebook.keyboard_manager;\n",
       "    if (!manager)\n",
       "        manager = IPython.keyboard_manager;\n",
       "\n",
       "    // Check for shift+enter\n",
       "    if (event.shiftKey && event.which == 13) {\n",
       "        this.canvas_div.blur();\n",
       "        event.shiftKey = false;\n",
       "        // Send a \"J\" for go to next cell\n",
       "        event.which = 74;\n",
       "        event.keyCode = 74;\n",
       "        manager.command_mode();\n",
       "        manager.handle_keydown(event);\n",
       "    }\n",
       "}\n",
       "\n",
       "mpl.figure.prototype.handle_save = function(fig, msg) {\n",
       "    fig.ondownload(fig, null);\n",
       "}\n",
       "\n",
       "\n",
       "mpl.find_output_cell = function(html_output) {\n",
       "    // Return the cell and output element which can be found *uniquely* in the notebook.\n",
       "    // Note - this is a bit hacky, but it is done because the \"notebook_saving.Notebook\"\n",
       "    // IPython event is triggered only after the cells have been serialised, which for\n",
       "    // our purposes (turning an active figure into a static one), is too late.\n",
       "    var cells = IPython.notebook.get_cells();\n",
       "    var ncells = cells.length;\n",
       "    for (var i=0; i<ncells; i++) {\n",
       "        var cell = cells[i];\n",
       "        if (cell.cell_type === 'code'){\n",
       "            for (var j=0; j<cell.output_area.outputs.length; j++) {\n",
       "                var data = cell.output_area.outputs[j];\n",
       "                if (data.data) {\n",
       "                    // IPython >= 3 moved mimebundle to data attribute of output\n",
       "                    data = data.data;\n",
       "                }\n",
       "                if (data['text/html'] == html_output) {\n",
       "                    return [cell, data, j];\n",
       "                }\n",
       "            }\n",
       "        }\n",
       "    }\n",
       "}\n",
       "\n",
       "// Register the function which deals with the matplotlib target/channel.\n",
       "// The kernel may be null if the page has been refreshed.\n",
       "if (IPython.notebook.kernel != null) {\n",
       "    IPython.notebook.kernel.comm_manager.register_target('matplotlib', mpl.mpl_figure_comm);\n",
       "}\n"
      ],
      "text/plain": [
       "<IPython.core.display.Javascript object>"
      ]
     },
     "metadata": {},
     "output_type": "display_data"
    },
    {
     "data": {
      "text/html": [
       "<img src=\"data:image/png;base64,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\">"
      ],
      "text/plain": [
       "<IPython.core.display.HTML object>"
      ]
     },
     "metadata": {},
     "output_type": "display_data"
    },
    {
     "data": {
      "text/plain": [
       "[<matplotlib.lines.Line2D at 0x7370748>]"
      ]
     },
     "execution_count": 11,
     "metadata": {},
     "output_type": "execute_result"
    }
   ],
   "source": [
    "%matplotlib notebook\n",
    "X = np.arange(0, 2, .1)\n",
    "plt.plot(X, [Y(x) for  x in X])"
   ]
  },
  {
   "cell_type": "code",
   "execution_count": 12,
   "metadata": {
    "collapsed": false
   },
   "outputs": [
    {
     "data": {
      "text/plain": [
       "(16.973973174507325, 3.0521008698887783e-12)"
      ]
     },
     "execution_count": 12,
     "metadata": {},
     "output_type": "execute_result"
    }
   ],
   "source": [
    "quad(integrand, 0, 1)"
   ]
  },
  {
   "cell_type": "code",
   "execution_count": 13,
   "metadata": {
    "collapsed": false
   },
   "outputs": [
    {
     "data": {
      "text/plain": [
       "(16.140720348699286, 2.3311432784112185e-08)"
      ]
     },
     "execution_count": 13,
     "metadata": {},
     "output_type": "execute_result"
    }
   ],
   "source": [
    "quad(integrand, 1, 2)"
   ]
  },
  {
   "cell_type": "code",
   "execution_count": 14,
   "metadata": {
    "collapsed": false
   },
   "outputs": [],
   "source": [
    "#quad(integrand, 2, 3) # this errors out, goes negative after 2"
   ]
  },
  {
   "cell_type": "markdown",
   "metadata": {},
   "source": []
  },
  {
   "cell_type": "markdown",
   "metadata": {},
   "source": [
    "<img src=\"https://raw.githubusercontent.com/kafonek/calc2/master/5.3.12.PNG\"/>"
   ]
  },
  {
   "cell_type": "code",
   "execution_count": 15,
   "metadata": {
    "collapsed": true
   },
   "outputs": [],
   "source": [
    "# 12\n"
   ]
  },
  {
   "cell_type": "markdown",
   "metadata": {},
   "source": [
    "<img src=\"https://raw.githubusercontent.com/kafonek/calc2/master/5.3.26.PNG\"/>"
   ]
  },
  {
   "cell_type": "code",
   "execution_count": 16,
   "metadata": {
    "collapsed": false
   },
   "outputs": [
    {
     "data": {
      "text/plain": [
       "(5203.125, 5.7766291750027676e-11)"
      ]
     },
     "execution_count": 16,
     "metadata": {},
     "output_type": "execute_result"
    }
   ],
   "source": [
    "def func(x):\n",
    "    return (1080**2) * 185/6 / x**2\n",
    "\n",
    "quad(func, 1080, 1280)"
   ]
  },
  {
   "cell_type": "code",
   "execution_count": null,
   "metadata": {
    "collapsed": true
   },
   "outputs": [],
   "source": []
  },
  {
   "cell_type": "markdown",
   "metadata": {},
   "source": [
    "<img src=\"https://raw.githubusercontent.com/kafonek/calc2/master/5.3.34.PNG\"/>"
   ]
  },
  {
   "cell_type": "code",
   "execution_count": 17,
   "metadata": {
    "collapsed": false
   },
   "outputs": [
    {
     "data": {
      "text/plain": [
       "(7.211102550927977, 8.005932084973441e-14)"
      ]
     },
     "execution_count": 17,
     "metadata": {},
     "output_type": "execute_result"
    }
   ],
   "source": [
    "# 34\n",
    "def func34(t):\n",
    "    return math.sin(t) * math.sqrt(13)\n",
    "\n",
    "quad(func34, 0, math.pi)"
   ]
  },
  {
   "cell_type": "markdown",
   "metadata": {},
   "source": [
    "<img src=\"https://raw.githubusercontent.com/kafonek/calc2/master/5.4.32.PNG\"/>"
   ]
  },
  {
   "cell_type": "code",
   "execution_count": 18,
   "metadata": {
    "collapsed": false
   },
   "outputs": [
    {
     "data": {
      "text/plain": [
       "200"
      ]
     },
     "execution_count": 18,
     "metadata": {},
     "output_type": "execute_result"
    }
   ],
   "source": [
    "def func32(weight, dist):\n",
    "    return weight * dist\n",
    "\n",
    "func32(5, 40)"
   ]
  },
  {
   "cell_type": "markdown",
   "metadata": {},
   "source": [
    "<img src=\"https://raw.githubusercontent.com/kafonek/calc2/master/5.4.38.PNG\"/>"
   ]
  },
  {
   "cell_type": "code",
   "execution_count": 19,
   "metadata": {
    "collapsed": true
   },
   "outputs": [],
   "source": [
    "# 38"
   ]
  },
  {
   "cell_type": "code",
   "execution_count": null,
   "metadata": {
    "collapsed": true
   },
   "outputs": [],
   "source": []
  }
 ],
 "metadata": {
  "kernelspec": {
   "display_name": "Python 3",
   "language": "python",
   "name": "python3"
  },
  "language_info": {
   "codemirror_mode": {
    "name": "ipython",
    "version": 3
   },
   "file_extension": ".py",
   "mimetype": "text/x-python",
   "name": "python",
   "nbconvert_exporter": "python",
   "pygments_lexer": "ipython3",
   "version": "3.4.3"
  }
 },
 "nbformat": 4,
 "nbformat_minor": 0
}
