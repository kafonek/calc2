{
 "cells": [
  {
   "cell_type": "markdown",
   "metadata": {},
   "source": [
    "<html>\n",
    "<p>Problems to do:</p>\n",
    "<ul>\n",
    "    <li><a href='#4.0.14'>Section 4-0 problem 14</a></li>\n",
    "    <li><a href='#4.1.54'>Section 4-1 problem 54</a></li>\n",
    "    <li><a href='#4.2.16'>Section 4-2 problem 16</a></li>\n",
    "    <li><a href='#4.3.38'>Section 4-3 problem 38</a></li>\n",
    "    <li><a href='#4.4.20'>Section 4-4 problem 20</a></li>\n",
    "    <li><a href='#4.5.44'>Section 4-5 problem 44</a></li>\n",
    "    <li><a href='#4.5.62'>Section 4-5 problem 62</a></li>\n",
    "    <li><a href='#4.6.44'>Section 4-6 problem 44</a></li>\n",
    "    <li><a href='#4.6.64'>Section 4-6 problem 64</a></li>\n",
    "    <li><a href='#4.7.36'>Section 4-7 problem 36</a></li>\n",
    "</ul>\n",
    "</html>"
   ]
  },
  {
   "cell_type": "code",
   "execution_count": 1,
   "metadata": {
    "collapsed": false
   },
   "outputs": [],
   "source": [
    "%matplotlib inline\n",
    "import matplotlib.pyplot as plt\n",
    "import numpy as np\n",
    "from scipy.integrate import quad\n",
    "import math"
   ]
  },
  {
   "cell_type": "markdown",
   "metadata": {},
   "source": [
    "<html>\n",
    "<p id='4.0.14'>Section 4-0 problem 14</p>\n",
    "<img src=\"4.0.14.png\">\n",
    "\n",
    "<p>Answer: <b>It takes 20 seconds until the cop catches the speeder</b></p>\n",
    "</html>"
   ]
  },
  {
   "cell_type": "code",
   "execution_count": 2,
   "metadata": {
    "collapsed": false
   },
   "outputs": [],
   "source": [
    "def mps(mph):\n",
    "    \"convert distance derived from miles per hour to miles per second\"\n",
    "    return mph / 60 / 60\n",
    "\n",
    "def cop_speed(t):\n",
    "    \"cop accelerates for 10 seconds until hitting 60 mph, then staying there\"\n",
    "    if t < 10:\n",
    "        return 6*t\n",
    "    return 60\n",
    "\n",
    "def speeder_speed(t):\n",
    "    \"speeder always goes 45 mph\"\n",
    "    return 45"
   ]
  },
  {
   "cell_type": "code",
   "execution_count": 3,
   "metadata": {
    "collapsed": false
   },
   "outputs": [
    {
     "data": {
      "text/plain": [
       "[<matplotlib.lines.Line2D at 0x7b26f60>]"
      ]
     },
     "execution_count": 3,
     "metadata": {},
     "output_type": "execute_result"
    },
    {
     "data": {
      "image/png": "[encoded data removed]",
      "text/plain": [
       "<matplotlib.figure.Figure at 0x7470550>"
      ]
     },
     "metadata": {},
     "output_type": "display_data"
    }
   ],
   "source": [
    "times = np.arange(0, 30, .1)\n",
    "\n",
    "fig = plt.figure()\n",
    "ax = fig.add_subplot(111)\n",
    "\n",
    "ax.set_xlabel(\"time (seconds)\")\n",
    "ax.set_ylabel(\"velocity (miles/hr)\")\n",
    "ax.set_ylim(0, 70)\n",
    "\n",
    "ax.plot(times, [speeder_speed(t) for t in times], color='blue') # speeder speed\n",
    "ax.plot(times, [cop_speed(t) for t in times], color='red') # cop speed\n",
    "\n",
    "ax2 = ax.twinx()\n",
    "ax2.set_ylabel(\"Distance travelled (miles)\")\n",
    "ax2.plot(times, [mps(quad(speeder_speed, 0, t)[0]) for t in times], color='green')\n",
    "ax2.plot(times, [mps(quad(cop_speed, 0, t)[0]) for t in times], color='orange')"
   ]
  },
  {
   "cell_type": "code",
   "execution_count": 4,
   "metadata": {
    "collapsed": false
   },
   "outputs": [
    {
     "name": "stdout",
     "output_type": "stream",
     "text": [
      "(900.0, 9.992007221626409e-12)\n",
      "(900.0000000000002, 9.992007221626412e-12)\n"
     ]
    }
   ],
   "source": [
    "print(quad(speeder_speed, 0, 20))\n",
    "print(quad(cop_speed, 0, 20))"
   ]
  },
  {
   "cell_type": "raw",
   "metadata": {},
   "source": []
  },
  {
   "cell_type": "markdown",
   "metadata": {},
   "source": [
    "<html>\n",
    "<p id='4.1.54'>Section 4-1 problem 54</p>\n",
    "<img src=\"4.1.54.png\">\n",
    "\n",
    "<p>Answer: <b><br/>\n",
    "(a) The left Reimann sum is 23.77545 and right Reimann sum is 24.22545.  The sum of randomly chosen points within each subinterval will be between those two values <br/>\n",
    "(b) between 23.8876125 - 24.1126125 <br/>\n",
    "</b></p>\n",
    "</html>"
   ]
  },
  {
   "cell_type": "code",
   "execution_count": 5,
   "metadata": {
    "collapsed": false
   },
   "outputs": [
    {
     "data": {
      "text/plain": [
       "0.030000000000000027"
      ]
     },
     "execution_count": 5,
     "metadata": {},
     "output_type": "execute_result"
    }
   ],
   "source": [
    "interval = np.linspace(1, 4, num=101)\n",
    "interval[1] - interval[0] # width of the intervals"
   ]
  },
  {
   "cell_type": "code",
   "execution_count": 6,
   "metadata": {
    "collapsed": false
   },
   "outputs": [
    {
     "data": {
      "text/plain": [
       "[<matplotlib.lines.Line2D at 0x82b0f28>]"
      ]
     },
     "execution_count": 6,
     "metadata": {},
     "output_type": "execute_result"
    },
    {
     "data": {
      "image/png": "[encoded data removed]",
      "text/plain": [
       "<matplotlib.figure.Figure at 0x5742630>"
      ]
     },
     "metadata": {},
     "output_type": "display_data"
    }
   ],
   "source": [
    "def f(x):\n",
    "    return 1 + x**2\n",
    "\n",
    "plt.step(interval, [f(x) for x in interval])"
   ]
  },
  {
   "cell_type": "code",
   "execution_count": 7,
   "metadata": {
    "collapsed": false
   },
   "outputs": [
    {
     "data": {
      "text/plain": [
       "23.775449999999996"
      ]
     },
     "execution_count": 7,
     "metadata": {},
     "output_type": "execute_result"
    }
   ],
   "source": [
    "left_rsum = sum([f(x) for x in interval[:100]])\n",
    "left_rsum * .03"
   ]
  },
  {
   "cell_type": "code",
   "execution_count": 8,
   "metadata": {
    "collapsed": false
   },
   "outputs": [
    {
     "data": {
      "text/plain": [
       "24.225449999999995"
      ]
     },
     "execution_count": 8,
     "metadata": {},
     "output_type": "execute_result"
    }
   ],
   "source": [
    "right_rsum = sum([f(x) for x in interval[1:]])\n",
    "right_rsum * .03"
   ]
  },
  {
   "cell_type": "code",
   "execution_count": 9,
   "metadata": {
    "collapsed": false
   },
   "outputs": [
    {
     "name": "stdout",
     "output_type": "stream",
     "text": [
      "23.8876125\n",
      "24.1126125\n"
     ]
    }
   ],
   "source": [
    "intervals = np.linspace(1, 4, 201)\n",
    "width = intervals[1] - intervals[0]\n",
    "print(sum([f(x) for x in intervals[:200]]) * width)\n",
    "print(sum([f(x) for x in intervals[1:]]) * width)"
   ]
  },
  {
   "cell_type": "code",
   "execution_count": 10,
   "metadata": {
    "collapsed": true
   },
   "outputs": [],
   "source": [
    "# since the true sum is 24.. the +/- on any interval is .22545"
   ]
  },
  {
   "cell_type": "markdown",
   "metadata": {},
   "source": [
    "<html>\n",
    "<p id='4.2.16'>Section 4-2 problem 16</p>\n",
    "<img src=\"4.2.16.png\"></img>\n",
    "<p>Answer: <b><br/>\n",
    "a) 5 <br/>\n",
    "b) -3 <br/>\n",
    "c) 2 <br/>\n",
    "d) 2 <br/>\n",
    "e) -1 \n",
    "</b></p>\n",
    "</html>"
   ]
  },
  {
   "cell_type": "markdown",
   "metadata": {},
   "source": [
    "<html>\n",
    "<p id='4.3.38'>Section 4-3 problem 38</p>\n",
    "<img src=\"4.3.38.png\"></img>\n",
    "<p>Answer: <b>The integral is 0</b></p>\n",
    "</html>"
   ]
  },
  {
   "cell_type": "code",
   "execution_count": 11,
   "metadata": {
    "collapsed": false
   },
   "outputs": [
    {
     "data": {
      "image/png": "[encoded data removed]",
      "text/plain": [
       "<matplotlib.figure.Figure at 0x828aef0>"
      ]
     },
     "metadata": {},
     "output_type": "display_data"
    }
   ],
   "source": [
    "### integrand function graph\n",
    "def f(x):\n",
    "    return abs(x) - 1\n",
    "\n",
    "X = np.arange(0, 3)\n",
    "plt.plot(X, [f(x) for x in X])\n",
    "plt.grid()"
   ]
  },
  {
   "cell_type": "markdown",
   "metadata": {},
   "source": [
    "<html>\n",
    "<p id='4.4.20'>Section 4-4 problem 20</p>\n",
    "<img src=\"4.4.20.png\"></img>\n",
    "<p>Answer: <b><br/>\n",
    "(a) The car would travel 1000 feet in 10 seconds <br/>\n",
    "(b) The car would travel 500 feet in ~7.937 seconds\n",
    "\n",
    "</b></p>\n",
    "</html>"
   ]
  },
  {
   "cell_type": "code",
   "execution_count": 12,
   "metadata": {
    "collapsed": false
   },
   "outputs": [
    {
     "data": {
      "text/plain": [
       "[<matplotlib.lines.Line2D at 0x8377ef0>]"
      ]
     },
     "execution_count": 12,
     "metadata": {},
     "output_type": "execute_result"
    },
    {
     "data": {
      "image/png": "[encoded data removed]",
      "text/plain": [
       "<matplotlib.figure.Figure at 0x8332c18>"
      ]
     },
     "metadata": {},
     "output_type": "display_data"
    }
   ],
   "source": [
    "def f(t):\n",
    "    return 3 * t**2\n",
    "\n",
    "times = np.arange(0, 10, .1)\n",
    "plt.plot(times, [f(t) for t in times])"
   ]
  },
  {
   "cell_type": "code",
   "execution_count": 13,
   "metadata": {
    "collapsed": false
   },
   "outputs": [
    {
     "data": {
      "text/plain": [
       "(1000.0000000000001, 1.1102230246251567e-11)"
      ]
     },
     "execution_count": 13,
     "metadata": {},
     "output_type": "execute_result"
    }
   ],
   "source": [
    "quad(f, 0, 10)"
   ]
  },
  {
   "cell_type": "code",
   "execution_count": 14,
   "metadata": {
    "collapsed": false
   },
   "outputs": [
    {
     "name": "stdout",
     "output_type": "stream",
     "text": [
      "7.938\n"
     ]
    }
   ],
   "source": [
    "for i in np.arange(0, 10, .001):\n",
    "    if quad(f, 0, i)[0] > 500:\n",
    "        print(i)\n",
    "        break"
   ]
  },
  {
   "cell_type": "markdown",
   "metadata": {},
   "source": [
    "<html>\n",
    "<p id='4.5.44'>Section 4-5 problem 44</p>\n",
    "<img src=\"4.5.44.png\"></img>\n",
    "<p>Answer: <b><br/>\n",
    "The anti-derivate of 2x/(1+x^2) is ln(1+x^2). Applying the 2nd part of the Fundamental Theorem of calculus, F(2) - F(-2) = ln(1+2^2) - ln(1+(-2)^2) = ln(5) - ln(5) = 0.\n",
    "</b></p>\n",
    "</html>"
   ]
  },
  {
   "cell_type": "markdown",
   "metadata": {},
   "source": [
    "<html>\n",
    "<p id='4.5.62'>Section 4-5 problem 62</p>\n",
    "<img src=\"4.5.62.png\"></img>\n",
    "<p>Answer: <b><br/>\n",
    "d/dx (F(9)-F(x)) = -f(x)= -(3*x^2 + 2)\n",
    "</b></p>\n",
    "</html>"
   ]
  },
  {
   "cell_type": "markdown",
   "metadata": {},
   "source": [
    "<html>\n",
    "<p id='4.6.44'>Section 4-6 problem 44</p>\n",
    "<img src=\"4.6.44.png\"></img>\n",
    "<p>Answer: <b>pi</b></p>\n",
    "</html>"
   ]
  },
  {
   "cell_type": "code",
   "execution_count": 15,
   "metadata": {
    "collapsed": false
   },
   "outputs": [
    {
     "data": {
      "text/plain": [
       "(3.141592653589793, 2.3058791671639882e-09)"
      ]
     },
     "execution_count": 15,
     "metadata": {},
     "output_type": "execute_result"
    }
   ],
   "source": [
    "def f(x):\n",
    "    return math.sin(x)**2\n",
    "\n",
    "quad(f, 0, 2*math.pi)"
   ]
  },
  {
   "cell_type": "markdown",
   "metadata": {},
   "source": [
    "<html>\n",
    "<p id='4.6.64'>Section 4-6 problem 64</p>\n",
    "<img src=\"4.6.64.png\"></img>\n",
    "<p>Answer: <b><br/>\n",
    "division: sqrt(x)/x + 3/x = x^(-1/2) + 3/x <br/>\n",
    "anti-derivative: 2x^(1/2) + 3 ln(x)\n",
    "</b></p>\n",
    "</html>"
   ]
  },
  {
   "cell_type": "markdown",
   "metadata": {},
   "source": [
    "<html>\n",
    "<p id='4.7.36'>Section 4-7 problem 36</p>\n",
    "<img src=\"4.7.36.png\"></img>\n",
    "<p>Answer: <b><br/>\n",
    "(a) ~185 miles <br/>\n",
    "(b) Travel at 37 mph for 5 hours to travel 185 miles\n",
    "</b></p>\n",
    "</html>"
   ]
  },
  {
   "cell_type": "code",
   "execution_count": 16,
   "metadata": {
    "collapsed": false
   },
   "outputs": [
    {
     "data": {
      "text/plain": [
       "185"
      ]
     },
     "execution_count": 16,
     "metadata": {},
     "output_type": "execute_result"
    }
   ],
   "source": [
    "50* 2 + 20 + 25 + 40"
   ]
  },
  {
   "cell_type": "code",
   "execution_count": 17,
   "metadata": {
    "collapsed": false
   },
   "outputs": [
    {
     "data": {
      "text/plain": [
       "37.0"
      ]
     },
     "execution_count": 17,
     "metadata": {},
     "output_type": "execute_result"
    }
   ],
   "source": [
    "185 / 5"
   ]
  },
  {
   "cell_type": "code",
   "execution_count": null,
   "metadata": {
    "collapsed": true
   },
   "outputs": [],
   "source": []
  }
 ],
 "metadata": {
  "kernelspec": {
   "display_name": "Python 3",
   "language": "python",
   "name": "python3"
  },
  "language_info": {
   "codemirror_mode": {
    "name": "ipython",
    "version": 3
   },
   "file_extension": ".py",
   "mimetype": "text/x-python",
   "name": "python",
   "nbconvert_exporter": "python",
   "pygments_lexer": "ipython3",
   "version": "3.4.3"
  }
 },
 "nbformat": 4,
 "nbformat_minor": 0
}
